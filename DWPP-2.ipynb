{
  "nbformat": 4,
  "nbformat_minor": 0,
  "metadata": {
    "kernelspec": {
      "display_name": "Python 3",
      "language": "python",
      "name": "python3"
    },
    "language_info": {
      "codemirror_mode": {
        "name": "ipython",
        "version": 3
      },
      "file_extension": ".py",
      "mimetype": "text/x-python",
      "name": "python",
      "nbconvert_exporter": "python",
      "pygments_lexer": "ipython3",
      "version": "3.7.7"
    },
    "colab": {
      "name": "112b.ipynb",
      "provenance": [],
      "collapsed_sections": []
    }
  },
  "cells": [
    {
      "cell_type": "markdown",
      "metadata": {
        "id": "MuQPyNWQ0fNP"
      },
      "source": [
        "# Sprint 2: Diving deeper into Python\n",
        "## Part 2: Pig Latin Translator Project\n"
      ]
    },
    {
      "cell_type": "markdown",
      "metadata": {
        "id": "UkoovDvV0fNR"
      },
      "source": [
        "## About this Project\n",
        "\n",
        "In this Project, you will practice your Python skills to create a Pig Latin translator.\n",
        "\n",
        "Pig Latin (<http://mng.bz/YrON>) is a common children's \"secret\" language in English-speaking countries. (It's normally secret among children who forget that their parents were once children themselves.) The rules for translating words from English into Pig Latin are quite simple.\n",
        "\n",
        "The function should return the translation of this word into Pig Latin.\n",
        "\n",
        "This exercise isn't meant to help you translate documents into Pig Latin for your job. (If that is your job, then I really have to question your career choices.)\n",
        "However, it demonstrates some of the powerful techniques that you should know when working with sequences, including searches, iteration and slices.\n",
        "It's hard to imagine a Python program that doesn't include any of these techniques.\n",
        "\n",
        "For this exercise:\n",
        "\n",
        "- Write a function (`pig_latin`) that takes a string as input, which is assumed to be a sentence in English.\n",
        "\n",
        "  - If the word begins with a vowel, add \"way\" to the end of the word. So \"Air\" becomes \"Airway\" and \"eat\" becomes \"eatway\".\n",
        "  - If the word begins with any other letter, then we take the first letter, put it on the end of the word, and then add \"ay.\" If a word starts with capital letter, the newly created word should start with a capital letter as well, while the previously capitalised first letter should become lowercase. Capitalisation of other letters should not be changed. Thus, \"python\" becomes \"ythonpay\", \"PoS\" becomes \"OSpay\", and \"Computer\" becomes \"Omputercay\".\n",
        "  \n",
        "  - This function should return the new string Pig Latin sentence instead of printing it.\n",
        "\n",
        "- Write a program that repeatedly asks the user to enter their sentences. Each time the user enters a sentence, the program should convert it to Pig Latin using the `pig_latin` function and then print it out.\n",
        "- The program only exits after the user enters an empty string as an input.\n",
        "\n",
        "## Objectives for this Part\n",
        "\n",
        "- Practice solving problems using Python.\n",
        "- Practice writing concise and elegant Python code.\n",
        "- Practice using working with strings.\n",
        "- Practice using Python's control flow.\n",
        "\n",
        "## Requirements\n",
        "\n",
        "- Provide clear instructions for the user on how to use your application.\n",
        "- Use docstrings to describe what your functions do.\n",
        "- Use meaningful variable names.\n",
        "- Provide suggestions about how your code can be improved.\n",
        "\n",
        "## Evaluation Criteria\n",
        "\n",
        "- Adherence to the requirements. How well did you meet the requirements?\n",
        "- Code quality. Was your code well-structured? Did you use the appropriate levels of abstraction? Did you remove commented-out and unused code?\n",
        "- Code performance. Did you use suitable algorithms and data structures to solve the problems?\n",
        "\n",
        "## Sample Correction Questions\n",
        "\n",
        "During a correction, you may get asked questions that test your understanding of the topics covered.\n",
        "\n",
        "- What are the advantages of using defaultdict over dict?\n",
        "- What are the advantages of using deque over list?\n",
        "- How does the K-Means algorithm work? What is it used for?\n",
        "\n",
        "## Source\n",
        "\n",
        "This exercise is adapted from the Python Workout book by Reuven M. Lerner.\n",
        "\n",
        "\n",
        "<br>\n",
        "\n",
        "## Your Solution"
      ]
    },
    {
      "cell_type": "code",
      "metadata": {
        "id": "SJMrsPi90fNS"
      },
      "source": [
        "# Write your solution below"
      ],
      "execution_count": null,
      "outputs": []
    },
    {
      "cell_type": "code",
      "source": [
        "def pig_latin(sentence: str) -> str:\n",
        "    \n",
        "    ''' Returns Pig Latin translation of a sentence in English'''\n",
        "    \n",
        "    # Creating list of words in the sentence\n",
        "    words = sentence.split()\n",
        "    \n",
        "    # List of vowels:\n",
        "    vowel = ['a', 'e', 'u', 'i', 'o']\n",
        "    \n",
        "    for i, word in enumerate(words):\n",
        "        \n",
        "        #if first letter is a vowel, add \"way\"\n",
        "        if word[0].lower() in vowel:\n",
        "            words[i] = word + 'way'\n",
        "        \n",
        "        # if first letter is a consonant add \"letter+ay\"\n",
        "        else:\n",
        "            \n",
        "            # Capital letter words are left capitalized\n",
        "            if word[0].isupper():\n",
        "                words[i] = word[1].upper() + word[2:] + word[:1].lower() + \"ay\"\n",
        "                 \n",
        "            else:\n",
        "                 words[i] = word[1:] + word[:1].lower() + 'ay'\n",
        "    \n",
        "    \n",
        "    translation = ' '.join(words)\n",
        "    return translation\n",
        "\n",
        "print('''This program translates English sentences to Pig Latin.\n",
        "You will be asked to enter a sentence in English.\n",
        "If you wish to exit the program, press \"Enter\" ''')\n",
        "\n",
        "while True:\n",
        "    user_sentence = input('Enter your English sentence: ')\n",
        "    \n",
        "    # Empty string stops the loop \n",
        "    if user_sentence == '':  \n",
        "        break\n",
        "    else:\n",
        "        print(\"In Pig Latin: \", pig_latin(user_sentence))"
      ],
      "metadata": {
        "id": "5ZN2XvNheYvr",
        "outputId": "96598ce3-f859-40f9-9ed8-3eda14657047",
        "colab": {
          "base_uri": "https://localhost:8080/"
        }
      },
      "execution_count": 2,
      "outputs": [
        {
          "name": "stdout",
          "output_type": "stream",
          "text": [
            "This program translates English sentences to Pig Latin.\n",
            "You will be asked to enter a sentence in English.\n",
            "If you wish to exit the program, press \"Enter\" \n",
            "Enter your English sentence: \n"
          ]
        }
      ]
    }
  ]
}